{
  "nbformat": 4,
  "nbformat_minor": 0,
  "metadata": {
    "colab": {
      "provenance": []
    },
    "kernelspec": {
      "name": "python3",
      "display_name": "Python 3"
    },
    "language_info": {
      "name": "python"
    }
  },
  "cells": [
    {
      "cell_type": "code",
      "execution_count": 1,
      "metadata": {
        "colab": {
          "base_uri": "https://localhost:8080/"
        },
        "id": "2l4BWwIU1JxC",
        "outputId": "dd57d82a-2e39-489b-ce64-ededa336a836"
      },
      "outputs": [
        {
          "output_type": "stream",
          "name": "stdout",
          "text": [
            "Data: [0.83677269 0.33872425 0.85281497 0.21460176 0.31566794 0.11730599\n",
            " 0.26555038 0.15541886 0.67710759 0.15845201]\n",
            "Average: 0.39324164541056306\n",
            "Variance: 0.073354072778813\n",
            "0.07335407277881302\n"
          ]
        }
      ],
      "source": [
        "import numpy as np\n",
        "\n",
        "size = 10\n",
        "data = np.random.rand(size)\n",
        "average = np.mean(data)\n",
        "\n",
        "# Calculating variance using inbuilt function\n",
        "variance = np.var(data)\n",
        "print(f\"Data: {data}\")\n",
        "print(f\"Average: {average}\")\n",
        "print(f\"Variance: {variance}\")\n",
        "\n",
        "# Calculate variance manually\n",
        "manual_variance = sum((value - average) ** 2 for value in data) / size\n",
        "print(manual_variance)\n"
      ]
    },
    {
      "cell_type": "code",
      "source": [
        "import numpy as np\n",
        "\n",
        "size = 10\n",
        "vector_a = np.random.rand(size)\n",
        "vector_b = np.random.rand(size)\n",
        "mean_a = np.mean(vector_a)\n",
        "mean_b = np.mean(vector_b)\n",
        "\n",
        "# Calculate covariance manually\n",
        "manual_covariance = sum((vector_a[i] - mean_a) * (vector_b[i] - mean_b) for i in range(size)) / size\n",
        "print(f\"Vector A: {vector_a}\")\n",
        "print(f\"Vector B: {vector_b}\")\n",
        "print(f\"Mean of Vector A: {mean_a}\")\n",
        "print(f\"Mean of Vector B: {mean_b}\")\n",
        "print(f\"Covariance: {manual_covariance}\")\n",
        "\n",
        "# Calculate covariance using inbuilt function\n",
        "cov_matrix = np.cov(vector_b, vector_a, bias=True)\n",
        "cov_ab = cov_matrix[0, 1]\n",
        "print(cov_ab)\n"
      ],
      "metadata": {
        "colab": {
          "base_uri": "https://localhost:8080/"
        },
        "id": "AvsnH3rN1M2R",
        "outputId": "7b71e639-0a33-41dd-e37c-63bf7583ac9a"
      },
      "execution_count": 2,
      "outputs": [
        {
          "output_type": "stream",
          "name": "stdout",
          "text": [
            "Vector A: [0.28540843 0.59797264 0.69770303 0.68462958 0.9533165  0.71544879\n",
            " 0.45290025 0.96477185 0.94683038 0.13459803]\n",
            "Vector B: [0.79124534 0.02013843 0.49805311 0.13498775 0.39982202 0.59518254\n",
            " 0.69250565 0.14614742 0.4106975  0.60787526]\n",
            "Mean of Vector A: 0.6433579471339862\n",
            "Mean of Vector B: 0.4296654995867205\n",
            "Covariance: -0.03542129231267922\n",
            "-0.03542129231267922\n"
          ]
        }
      ]
    },
    {
      "cell_type": "code",
      "source": [
        "import numpy as np\n",
        "\n",
        "num_samples = 10\n",
        "vector_one = np.random.rand(num_samples)\n",
        "vector_two = np.random.rand(num_samples)\n",
        "correlation_matrix = np.corrcoef(vector_one, vector_two)\n",
        "correlation_value = correlation_matrix[0, 1]  # Extract the correlation value\n",
        "\n",
        "print(f\"Vector One: {vector_one}\")\n",
        "print(f\"Vector Two: {vector_two}\")\n",
        "print(f\"Correlation: {correlation_value}\")\n",
        "\n"
      ],
      "metadata": {
        "colab": {
          "base_uri": "https://localhost:8080/"
        },
        "id": "Jy-3nmTz23xH",
        "outputId": "1cbce186-931a-4be9-f1da-41fbd34131a4"
      },
      "execution_count": 3,
      "outputs": [
        {
          "output_type": "stream",
          "name": "stdout",
          "text": [
            "Vector One: [0.2200016  0.35341296 0.92487698 0.8757381  0.52803078 0.38340173\n",
            " 0.09748241 0.23870806 0.179257   0.84274616]\n",
            "Vector Two: [0.24558934 0.18135578 0.89488677 0.76055464 0.83823092 0.27623097\n",
            " 0.20665567 0.48025619 0.78933393 0.67107647]\n",
            "Correlation: 0.6463514454639595\n"
          ]
        }
      ]
    },
    {
      "cell_type": "code",
      "source": [
        "import numpy as np\n",
        "\n",
        "num_features = 4    # Number of features\n",
        "num_samples = 10    # Number of samples\n",
        "data_matrix = np.random.rand(num_features, num_samples)\n",
        "cov_matrix = np.cov(data_matrix, rowvar=True, bias=True)\n",
        "corr_matrix = np.corrcoef(data_matrix)\n",
        "\n",
        "print(\"Data Matrix (features x samples):\")\n",
        "print(data_matrix)\n",
        "print(\"\\nCovariance Matrix:\")\n",
        "print(cov_matrix)\n",
        "print(\"\\nCorrelation Matrix:\")\n",
        "print(corr_matrix)\n"
      ],
      "metadata": {
        "colab": {
          "base_uri": "https://localhost:8080/"
        },
        "id": "n6fmdQX-34DH",
        "outputId": "52d06409-aea4-4db1-f482-6f3544c1b70a"
      },
      "execution_count": 4,
      "outputs": [
        {
          "output_type": "stream",
          "name": "stdout",
          "text": [
            "Data Matrix (features x samples):\n",
            "[[0.70609599 0.76468826 0.65080148 0.64197221 0.24687491 0.60313184\n",
            "  0.14772105 0.2816035  0.6546918  0.77983538]\n",
            " [0.4681394  0.89686387 0.92174144 0.55051289 0.35988312 0.06742645\n",
            "  0.31586466 0.7494559  0.15882416 0.72084221]\n",
            " [0.77349672 0.80519748 0.08552869 0.82022041 0.7445061  0.39082133\n",
            "  0.67825939 0.99412851 0.63198614 0.0566796 ]\n",
            " [0.84622805 0.7039074  0.28456073 0.29694702 0.64128307 0.90664218\n",
            "  0.63801828 0.74363295 0.59680448 0.33755725]]\n",
            "\n",
            "Covariance Matrix:\n",
            "[[ 0.04813834  0.01695091 -0.02742208 -0.01096554]\n",
            " [ 0.01695091  0.0802601  -0.01062965 -0.02813256]\n",
            " [-0.02742208 -0.01062965  0.09076678  0.03034749]\n",
            " [-0.01096554 -0.02813256  0.03034749  0.0449462 ]]\n",
            "\n",
            "Correlation Matrix:\n",
            "[[ 1.          0.27270788 -0.41485034 -0.23574265]\n",
            " [ 0.27270788  1.         -0.12453908 -0.46839561]\n",
            " [-0.41485034 -0.12453908  1.          0.47513037]\n",
            " [-0.23574265 -0.46839561  0.47513037  1.        ]]\n"
          ]
        }
      ]
    },
    {
      "cell_type": "code",
      "source": [],
      "metadata": {
        "id": "V_fjf8iv5OMm"
      },
      "execution_count": null,
      "outputs": []
    }
  ]
}